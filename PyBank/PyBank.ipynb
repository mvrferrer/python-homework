{
 "cells": [
  {
   "cell_type": "code",
   "execution_count": 16,
   "metadata": {},
   "outputs": [],
   "source": [
    "# Import pandas and pathlib\n",
    "import pandas as pd\n",
    "from pathlib import Path\n",
    "# Create a Path to the File Using Pathlib\n",
    "csvpath = Path(r'C:\\Users\\mvrfe\\ru-hou-fin-pt-06-2020-u-c\\Homework\\02-Python\\Instructions\\PyBank\\Resources\\budget_data.csv')\n",
    "# Use the file path to read the CSV into a DataFrame\n",
    "df_budget_data = pd.read_csv(r'C:\\Users\\mvrfe\\ru-hou-fin-pt-06-2020-u-c\\Homework\\02-Python\\Instructions\\PyBank\\Resources\\budget_data.csv')\n",
    "import numpy as np"
   ]
  },
  {
   "cell_type": "code",
   "execution_count": 35,
   "metadata": {},
   "outputs": [
    {
     "name": "stdout",
     "output_type": "stream",
     "text": [
      "86\n"
     ]
    }
   ],
   "source": [
    "# The total number of months included in the dataset\n",
    "number_of_rows = len(df_budget_data)\n",
    "print(number_of_rows)\n",
    "x = number_of_rows"
   ]
  },
  {
   "cell_type": "code",
   "execution_count": 36,
   "metadata": {},
   "outputs": [
    {
     "name": "stdout",
     "output_type": "stream",
     "text": [
      "Date             Jan-2010Feb-2010Mar-2010Apr-2010May-2010Jun-20...\n",
      "Profit/Losses                                             38382578\n",
      "dtype: object\n"
     ]
    }
   ],
   "source": [
    "# The net total amount of Profits/losses over the entire period\n",
    "Total = df_budget_data.sum(axis=0)\n",
    "print(Total)"
   ]
  },
  {
   "cell_type": "code",
   "execution_count": 37,
   "metadata": {},
   "outputs": [
    {
     "name": "stdout",
     "output_type": "stream",
     "text": [
      "Profit/Losses    446309.046512\n",
      "dtype: float64\n"
     ]
    }
   ],
   "source": [
    "# The average of the changes in Profit/Losses over the entire period.\n",
    "mean = df_budget_data.mean()\n",
    "print(mean)"
   ]
  },
  {
   "cell_type": "code",
   "execution_count": 38,
   "metadata": {},
   "outputs": [
    {
     "data": {
      "text/plain": [
       "Date             Sep-2016\n",
       "Profit/Losses     1170593\n",
       "dtype: object"
      ]
     },
     "execution_count": 38,
     "metadata": {},
     "output_type": "execute_result"
    }
   ],
   "source": [
    "df_budget_data.max()"
   ]
  },
  {
   "cell_type": "code",
   "execution_count": 39,
   "metadata": {},
   "outputs": [
    {
     "data": {
      "text/plain": [
       "Date             Apr-2010\n",
       "Profit/Losses    -1196225\n",
       "dtype: object"
      ]
     },
     "execution_count": 39,
     "metadata": {},
     "output_type": "execute_result"
    }
   ],
   "source": [
    "df_budget_data.min()"
   ]
  },
  {
   "cell_type": "code",
   "execution_count": 53,
   "metadata": {},
   "outputs": [
    {
     "ename": "SyntaxError",
     "evalue": "invalid syntax (<ipython-input-53-4d39253d56ad>, line 2)",
     "output_type": "error",
     "traceback": [
      "\u001b[1;36m  File \u001b[1;32m\"<ipython-input-53-4d39253d56ad>\"\u001b[1;36m, line \u001b[1;32m2\u001b[0m\n\u001b[1;33m    Finacial Analysis\u001b[0m\n\u001b[1;37m                    ^\u001b[0m\n\u001b[1;31mSyntaxError\u001b[0m\u001b[1;31m:\u001b[0m invalid syntax\n"
     ]
    }
   ],
   "source": [
    ">>>\n",
    "Finacial Analysis\n",
    "\"Total Months:\" print(x)\n",
    "Total: $\n",
    "Average  Change: $-2315.12\n",
    "Greatest Increase in Profits: Feb-2012 ($1926159)\n",
    "Greatest Decrease in Profits: Sep-2013 ($-2196167)\n",
    "''''''"
   ]
  },
  {
   "cell_type": "code",
   "execution_count": 54,
   "metadata": {},
   "outputs": [
    {
     "ename": "SyntaxError",
     "evalue": "invalid character in identifier (<ipython-input-54-0905bdd47b13>, line 1)",
     "output_type": "error",
     "traceback": [
      "\u001b[1;36m  File \u001b[1;32m\"<ipython-input-54-0905bdd47b13>\"\u001b[1;36m, line \u001b[1;32m1\u001b[0m\n\u001b[1;33m    file = open(“testfile.txt”,”w”)\u001b[0m\n\u001b[1;37m                        ^\u001b[0m\n\u001b[1;31mSyntaxError\u001b[0m\u001b[1;31m:\u001b[0m invalid character in identifier\n"
     ]
    }
   ],
   "source": [
    "file = open(“testfile.txt”,”w”) \n",
    " \n",
    "file.write(“Hello World”) \n",
    "file.write(“This is our new text file”) \n",
    "file.write(“and this is another line.”) \n",
    "file.write(“Why? Because we can.”) \n",
    " \n",
    "file.close() "
   ]
  }
 ],
 "metadata": {
  "kernelspec": {
   "display_name": "Python 3",
   "language": "python",
   "name": "python3"
  },
  "language_info": {
   "codemirror_mode": {
    "name": "ipython",
    "version": 3
   },
   "file_extension": ".py",
   "mimetype": "text/x-python",
   "name": "python",
   "nbconvert_exporter": "python",
   "pygments_lexer": "ipython3",
   "version": "3.7.6"
  }
 },
 "nbformat": 4,
 "nbformat_minor": 4
}
